{
 "cells": [
  {
   "cell_type": "markdown",
   "metadata": {},
   "source": [
    "# Deal Opportunity Scoring Predictive Model (Re-Training and PKL File Output)"
   ]
  },
  {
   "cell_type": "code",
   "execution_count": 6,
   "metadata": {},
   "outputs": [],
   "source": [
    "import numpy as np\n",
    "import pandas as pd\n",
    "import matplotlib.pyplot as plt\n",
    "%matplotlib inline\n",
    "import seaborn as sns; \n",
    "sns.set()\n",
    "\n",
    "import warnings\n",
    "warnings.filterwarnings('ignore')"
   ]
  },
  {
   "cell_type": "code",
   "execution_count": 7,
   "metadata": {},
   "outputs": [],
   "source": [
    "# open deal data and assign to data frame\n",
    "deal_df = pd.read_excel(\"deal_retraining_q3_fy21.xlsx\")"
   ]
  },
  {
   "cell_type": "code",
   "execution_count": 8,
   "metadata": {},
   "outputs": [],
   "source": [
    "# sets global parameters to show all columns for .head function\n",
    "pd.set_option('display.max_columns', None)\n",
    "pd.set_option('display.max_rows', None)"
   ]
  },
  {
   "cell_type": "code",
   "execution_count": 9,
   "metadata": {},
   "outputs": [
    {
     "data": {
      "text/html": [
       "<div>\n",
       "<style scoped>\n",
       "    .dataframe tbody tr th:only-of-type {\n",
       "        vertical-align: middle;\n",
       "    }\n",
       "\n",
       "    .dataframe tbody tr th {\n",
       "        vertical-align: top;\n",
       "    }\n",
       "\n",
       "    .dataframe thead th {\n",
       "        text-align: right;\n",
       "    }\n",
       "</style>\n",
       "<table border=\"1\" class=\"dataframe\">\n",
       "  <thead>\n",
       "    <tr style=\"text-align: right;\">\n",
       "      <th></th>\n",
       "      <th>selected_count</th>\n",
       "      <th>create_to_selected</th>\n",
       "      <th>create_to_propose</th>\n",
       "      <th>create_to_shop</th>\n",
       "      <th>create_to_close</th>\n",
       "      <th>shop_to_close</th>\n",
       "      <th>days_shop_from_qtr_beg</th>\n",
       "      <th>days_shop_from_qtr_end</th>\n",
       "      <th>days_created_from_qtr_beg</th>\n",
       "      <th>cycle_per_stage</th>\n",
       "      <th>exp_outcome</th>\n",
       "    </tr>\n",
       "  </thead>\n",
       "  <tbody>\n",
       "    <tr>\n",
       "      <th>0</th>\n",
       "      <td>0</td>\n",
       "      <td>0</td>\n",
       "      <td>0</td>\n",
       "      <td>12</td>\n",
       "      <td>631</td>\n",
       "      <td>619</td>\n",
       "      <td>84</td>\n",
       "      <td>6</td>\n",
       "      <td>72</td>\n",
       "      <td>315</td>\n",
       "      <td>0</td>\n",
       "    </tr>\n",
       "    <tr>\n",
       "      <th>1</th>\n",
       "      <td>0</td>\n",
       "      <td>0</td>\n",
       "      <td>0</td>\n",
       "      <td>0</td>\n",
       "      <td>47</td>\n",
       "      <td>47</td>\n",
       "      <td>72</td>\n",
       "      <td>18</td>\n",
       "      <td>72</td>\n",
       "      <td>0</td>\n",
       "      <td>0</td>\n",
       "    </tr>\n",
       "    <tr>\n",
       "      <th>2</th>\n",
       "      <td>0</td>\n",
       "      <td>0</td>\n",
       "      <td>0</td>\n",
       "      <td>0</td>\n",
       "      <td>110</td>\n",
       "      <td>110</td>\n",
       "      <td>72</td>\n",
       "      <td>18</td>\n",
       "      <td>72</td>\n",
       "      <td>0</td>\n",
       "      <td>0</td>\n",
       "    </tr>\n",
       "    <tr>\n",
       "      <th>3</th>\n",
       "      <td>0</td>\n",
       "      <td>0</td>\n",
       "      <td>0</td>\n",
       "      <td>0</td>\n",
       "      <td>203</td>\n",
       "      <td>203</td>\n",
       "      <td>72</td>\n",
       "      <td>18</td>\n",
       "      <td>72</td>\n",
       "      <td>0</td>\n",
       "      <td>0</td>\n",
       "    </tr>\n",
       "    <tr>\n",
       "      <th>4</th>\n",
       "      <td>0</td>\n",
       "      <td>0</td>\n",
       "      <td>0</td>\n",
       "      <td>0</td>\n",
       "      <td>384</td>\n",
       "      <td>384</td>\n",
       "      <td>72</td>\n",
       "      <td>18</td>\n",
       "      <td>72</td>\n",
       "      <td>192</td>\n",
       "      <td>0</td>\n",
       "    </tr>\n",
       "  </tbody>\n",
       "</table>\n",
       "</div>"
      ],
      "text/plain": [
       "   selected_count  create_to_selected  create_to_propose  create_to_shop  \\\n",
       "0               0                   0                  0              12   \n",
       "1               0                   0                  0               0   \n",
       "2               0                   0                  0               0   \n",
       "3               0                   0                  0               0   \n",
       "4               0                   0                  0               0   \n",
       "\n",
       "   create_to_close  shop_to_close  days_shop_from_qtr_beg  \\\n",
       "0              631            619                      84   \n",
       "1               47             47                      72   \n",
       "2              110            110                      72   \n",
       "3              203            203                      72   \n",
       "4              384            384                      72   \n",
       "\n",
       "   days_shop_from_qtr_end  days_created_from_qtr_beg  cycle_per_stage  \\\n",
       "0                       6                         72              315   \n",
       "1                      18                         72                0   \n",
       "2                      18                         72                0   \n",
       "3                      18                         72                0   \n",
       "4                      18                         72              192   \n",
       "\n",
       "   exp_outcome  \n",
       "0            0  \n",
       "1            0  \n",
       "2            0  \n",
       "3            0  \n",
       "4            0  "
      ]
     },
     "execution_count": 9,
     "metadata": {},
     "output_type": "execute_result"
    }
   ],
   "source": [
    "deal_df.head()"
   ]
  },
  {
   "cell_type": "markdown",
   "metadata": {},
   "source": [
    "### Check for outliers and missing values"
   ]
  },
  {
   "cell_type": "code",
   "execution_count": 10,
   "metadata": {},
   "outputs": [
    {
     "data": {
      "text/html": [
       "<div>\n",
       "<style scoped>\n",
       "    .dataframe tbody tr th:only-of-type {\n",
       "        vertical-align: middle;\n",
       "    }\n",
       "\n",
       "    .dataframe tbody tr th {\n",
       "        vertical-align: top;\n",
       "    }\n",
       "\n",
       "    .dataframe thead th {\n",
       "        text-align: right;\n",
       "    }\n",
       "</style>\n",
       "<table border=\"1\" class=\"dataframe\">\n",
       "  <thead>\n",
       "    <tr style=\"text-align: right;\">\n",
       "      <th></th>\n",
       "      <th>selected_count</th>\n",
       "      <th>create_to_selected</th>\n",
       "      <th>create_to_propose</th>\n",
       "      <th>create_to_shop</th>\n",
       "      <th>create_to_close</th>\n",
       "      <th>shop_to_close</th>\n",
       "      <th>days_shop_from_qtr_beg</th>\n",
       "      <th>days_shop_from_qtr_end</th>\n",
       "      <th>days_created_from_qtr_beg</th>\n",
       "      <th>cycle_per_stage</th>\n",
       "      <th>exp_outcome</th>\n",
       "    </tr>\n",
       "  </thead>\n",
       "  <tbody>\n",
       "    <tr>\n",
       "      <th>count</th>\n",
       "      <td>3468.000000</td>\n",
       "      <td>3468.000000</td>\n",
       "      <td>3468.000000</td>\n",
       "      <td>3468.000000</td>\n",
       "      <td>3468.000000</td>\n",
       "      <td>3468.000000</td>\n",
       "      <td>3468.000000</td>\n",
       "      <td>3468.000000</td>\n",
       "      <td>3468.000000</td>\n",
       "      <td>3468.000000</td>\n",
       "      <td>3468.000000</td>\n",
       "    </tr>\n",
       "    <tr>\n",
       "      <th>mean</th>\n",
       "      <td>0.189158</td>\n",
       "      <td>55.314014</td>\n",
       "      <td>49.940311</td>\n",
       "      <td>84.978950</td>\n",
       "      <td>420.485006</td>\n",
       "      <td>83.962226</td>\n",
       "      <td>21.433968</td>\n",
       "      <td>16.449539</td>\n",
       "      <td>50.827278</td>\n",
       "      <td>196.511534</td>\n",
       "      <td>0.202710</td>\n",
       "    </tr>\n",
       "    <tr>\n",
       "      <th>std</th>\n",
       "      <td>0.391691</td>\n",
       "      <td>184.230354</td>\n",
       "      <td>175.351123</td>\n",
       "      <td>224.949493</td>\n",
       "      <td>390.404253</td>\n",
       "      <td>212.768969</td>\n",
       "      <td>30.176406</td>\n",
       "      <td>25.516935</td>\n",
       "      <td>25.287727</td>\n",
       "      <td>269.936407</td>\n",
       "      <td>0.402077</td>\n",
       "    </tr>\n",
       "    <tr>\n",
       "      <th>min</th>\n",
       "      <td>0.000000</td>\n",
       "      <td>0.000000</td>\n",
       "      <td>0.000000</td>\n",
       "      <td>-764.000000</td>\n",
       "      <td>-530.000000</td>\n",
       "      <td>-365.000000</td>\n",
       "      <td>0.000000</td>\n",
       "      <td>0.000000</td>\n",
       "      <td>0.000000</td>\n",
       "      <td>-8.000000</td>\n",
       "      <td>0.000000</td>\n",
       "    </tr>\n",
       "    <tr>\n",
       "      <th>25%</th>\n",
       "      <td>0.000000</td>\n",
       "      <td>0.000000</td>\n",
       "      <td>0.000000</td>\n",
       "      <td>0.000000</td>\n",
       "      <td>155.000000</td>\n",
       "      <td>0.000000</td>\n",
       "      <td>0.000000</td>\n",
       "      <td>0.000000</td>\n",
       "      <td>29.000000</td>\n",
       "      <td>0.000000</td>\n",
       "      <td>0.000000</td>\n",
       "    </tr>\n",
       "    <tr>\n",
       "      <th>50%</th>\n",
       "      <td>0.000000</td>\n",
       "      <td>0.000000</td>\n",
       "      <td>0.000000</td>\n",
       "      <td>0.000000</td>\n",
       "      <td>312.000000</td>\n",
       "      <td>0.000000</td>\n",
       "      <td>0.000000</td>\n",
       "      <td>0.000000</td>\n",
       "      <td>58.000000</td>\n",
       "      <td>91.000000</td>\n",
       "      <td>0.000000</td>\n",
       "    </tr>\n",
       "    <tr>\n",
       "      <th>75%</th>\n",
       "      <td>0.000000</td>\n",
       "      <td>0.000000</td>\n",
       "      <td>0.000000</td>\n",
       "      <td>33.000000</td>\n",
       "      <td>588.000000</td>\n",
       "      <td>49.250000</td>\n",
       "      <td>44.000000</td>\n",
       "      <td>25.250000</td>\n",
       "      <td>72.000000</td>\n",
       "      <td>291.000000</td>\n",
       "      <td>0.000000</td>\n",
       "    </tr>\n",
       "    <tr>\n",
       "      <th>max</th>\n",
       "      <td>1.000000</td>\n",
       "      <td>2220.000000</td>\n",
       "      <td>2156.000000</td>\n",
       "      <td>2156.000000</td>\n",
       "      <td>3505.000000</td>\n",
       "      <td>1848.000000</td>\n",
       "      <td>91.000000</td>\n",
       "      <td>91.000000</td>\n",
       "      <td>91.000000</td>\n",
       "      <td>2616.000000</td>\n",
       "      <td>1.000000</td>\n",
       "    </tr>\n",
       "  </tbody>\n",
       "</table>\n",
       "</div>"
      ],
      "text/plain": [
       "       selected_count  create_to_selected  create_to_propose  create_to_shop  \\\n",
       "count     3468.000000         3468.000000        3468.000000     3468.000000   \n",
       "mean         0.189158           55.314014          49.940311       84.978950   \n",
       "std          0.391691          184.230354         175.351123      224.949493   \n",
       "min          0.000000            0.000000           0.000000     -764.000000   \n",
       "25%          0.000000            0.000000           0.000000        0.000000   \n",
       "50%          0.000000            0.000000           0.000000        0.000000   \n",
       "75%          0.000000            0.000000           0.000000       33.000000   \n",
       "max          1.000000         2220.000000        2156.000000     2156.000000   \n",
       "\n",
       "       create_to_close  shop_to_close  days_shop_from_qtr_beg  \\\n",
       "count      3468.000000    3468.000000             3468.000000   \n",
       "mean        420.485006      83.962226               21.433968   \n",
       "std         390.404253     212.768969               30.176406   \n",
       "min        -530.000000    -365.000000                0.000000   \n",
       "25%         155.000000       0.000000                0.000000   \n",
       "50%         312.000000       0.000000                0.000000   \n",
       "75%         588.000000      49.250000               44.000000   \n",
       "max        3505.000000    1848.000000               91.000000   \n",
       "\n",
       "       days_shop_from_qtr_end  days_created_from_qtr_beg  cycle_per_stage  \\\n",
       "count             3468.000000                3468.000000      3468.000000   \n",
       "mean                16.449539                  50.827278       196.511534   \n",
       "std                 25.516935                  25.287727       269.936407   \n",
       "min                  0.000000                   0.000000        -8.000000   \n",
       "25%                  0.000000                  29.000000         0.000000   \n",
       "50%                  0.000000                  58.000000        91.000000   \n",
       "75%                 25.250000                  72.000000       291.000000   \n",
       "max                 91.000000                  91.000000      2616.000000   \n",
       "\n",
       "       exp_outcome  \n",
       "count  3468.000000  \n",
       "mean      0.202710  \n",
       "std       0.402077  \n",
       "min       0.000000  \n",
       "25%       0.000000  \n",
       "50%       0.000000  \n",
       "75%       0.000000  \n",
       "max       1.000000  "
      ]
     },
     "execution_count": 10,
     "metadata": {},
     "output_type": "execute_result"
    }
   ],
   "source": [
    "deal_df.describe()"
   ]
  },
  {
   "cell_type": "markdown",
   "metadata": {},
   "source": [
    "# Assign features and target varibles to X and y"
   ]
  },
  {
   "cell_type": "code",
   "execution_count": 11,
   "metadata": {},
   "outputs": [],
   "source": [
    "# Get X and y\n",
    "X = deal_df.iloc[:, :-1].values\n",
    "y = deal_df.iloc[:, -1].values"
   ]
  },
  {
   "cell_type": "code",
   "execution_count": 12,
   "metadata": {},
   "outputs": [
    {
     "data": {
      "text/plain": [
       "array([[  0,   0,   0,  12, 631, 619,  84,   6,  72, 315],\n",
       "       [  0,   0,   0,   0,  47,  47,  72,  18,  72,   0],\n",
       "       [  0,   0,   0,   0, 110, 110,  72,  18,  72,   0],\n",
       "       [  0,   0,   0,   0, 203, 203,  72,  18,  72,   0],\n",
       "       [  0,   0,   0,   0, 384, 384,  72,  18,  72, 192],\n",
       "       [  0,   0,   0,   0, 394, 394,  72,  18,  72, 197],\n",
       "       [  0,   0,   0,   0, 203,   0,   0,   0,  72,   0],\n",
       "       [  0,   0,   0,   0, 203,   0,   0,   0,  72, 203],\n",
       "       [  0,   0,   0,   0, 447,   0,   0,   0,  72, 223],\n",
       "       [  0,   0,   0,   0, 233, 233,  72,  18,  72,   0],\n",
       "       [  0,   0,   0,   0, 114,   0,   0,   0,  72,   0],\n",
       "       [  0,   0,   0,   0, 202, 202,  72,  18,  72, 202]])"
      ]
     },
     "execution_count": 12,
     "metadata": {},
     "output_type": "execute_result"
    }
   ],
   "source": [
    "X[:12]"
   ]
  },
  {
   "cell_type": "code",
   "execution_count": 13,
   "metadata": {},
   "outputs": [
    {
     "data": {
      "text/plain": [
       "array([0, 0, 0, ..., 0, 0, 1])"
      ]
     },
     "execution_count": 13,
     "metadata": {},
     "output_type": "execute_result"
    }
   ],
   "source": [
    "#y.ravel() flattens if 2 dimensional\n",
    "y"
   ]
  },
  {
   "cell_type": "code",
   "execution_count": 14,
   "metadata": {},
   "outputs": [
    {
     "data": {
      "text/plain": [
       "(3468, 10)"
      ]
     },
     "execution_count": 14,
     "metadata": {},
     "output_type": "execute_result"
    }
   ],
   "source": [
    "X.shape"
   ]
  },
  {
   "cell_type": "code",
   "execution_count": 15,
   "metadata": {},
   "outputs": [
    {
     "data": {
      "text/plain": [
       "(3468,)"
      ]
     },
     "execution_count": 15,
     "metadata": {},
     "output_type": "execute_result"
    }
   ],
   "source": [
    "y.shape"
   ]
  },
  {
   "cell_type": "markdown",
   "metadata": {},
   "source": [
    "### Standardize Features"
   ]
  },
  {
   "cell_type": "code",
   "execution_count": 16,
   "metadata": {},
   "outputs": [],
   "source": [
    "# standardize features\n",
    "from sklearn.preprocessing import StandardScaler\n",
    "stdsc = StandardScaler()\n",
    "\n",
    "# train data calcualtes mean/std and then standarizes it using 'fit'\n",
    "# test just calculates mean/std for test data. \n",
    "# DO NOT 'standarize' test data. Only need to standarize train to train model\n",
    "X_train_std = stdsc.fit_transform(X)"
   ]
  },
  {
   "cell_type": "code",
   "execution_count": 17,
   "metadata": {},
   "outputs": [
    {
     "data": {
      "text/plain": [
       "array([[-0.48299681, -0.30028705, -0.28484285, ..., -0.40957292,\n",
       "         0.83739338,  0.43901286],\n",
       "       [-0.48299681, -0.30028705, -0.28484285, ...,  0.06077082,\n",
       "         0.83739338, -0.72809694],\n",
       "       [-0.48299681, -0.30028705, -0.28484285, ...,  0.06077082,\n",
       "         0.83739338, -0.72809694],\n",
       "       ...,\n",
       "       [ 2.07040705,  0.00372406, -0.1422512 , ...,  1.11904421,\n",
       "        -1.17968606, -0.67622539],\n",
       "       [-0.48299681, -0.30028705, -0.28484285, ..., -0.64474478,\n",
       "        -1.17968606, -0.14268949],\n",
       "       [-0.48299681, -0.30028705, -0.28484285, ..., -0.64474478,\n",
       "        -1.17968606,  0.7724728 ]])"
      ]
     },
     "execution_count": 17,
     "metadata": {},
     "output_type": "execute_result"
    }
   ],
   "source": [
    "X_train_std[:-1]"
   ]
  },
  {
   "cell_type": "code",
   "execution_count": 18,
   "metadata": {},
   "outputs": [
    {
     "data": {
      "text/plain": [
       "(3468, 10)"
      ]
     },
     "execution_count": 18,
     "metadata": {},
     "output_type": "execute_result"
    }
   ],
   "source": [
    "X_train_std.shape"
   ]
  },
  {
   "cell_type": "code",
   "execution_count": 19,
   "metadata": {},
   "outputs": [
    {
     "data": {
      "text/plain": [
       "(3468,)"
      ]
     },
     "execution_count": 19,
     "metadata": {},
     "output_type": "execute_result"
    }
   ],
   "source": [
    "y.shape"
   ]
  },
  {
   "cell_type": "code",
   "execution_count": 20,
   "metadata": {},
   "outputs": [],
   "source": [
    "X_full_train = X\n",
    "y_full_train = y"
   ]
  },
  {
   "cell_type": "markdown",
   "metadata": {},
   "source": [
    "# Random Forest Model"
   ]
  },
  {
   "cell_type": "code",
   "execution_count": 21,
   "metadata": {},
   "outputs": [
    {
     "name": "stdout",
     "output_type": "stream",
     "text": [
      "Random Forest model score: 100.00%\n"
     ]
    }
   ],
   "source": [
    "# Random Forest (ensemble of Decision Trees)\n",
    "from sklearn.ensemble import RandomForestClassifier\n",
    "\n",
    "rf = RandomForestClassifier(n_estimators=2000, random_state=0)\n",
    "final_rf = rf.fit(X_full_train, y_full_train)\n",
    "full_train_score_rf = rf.score(X_full_train, y_full_train)\n",
    "print(\"Random Forest model score: {0:.2f}%\".format(100*full_train_score_rf))"
   ]
  },
  {
   "cell_type": "markdown",
   "metadata": {},
   "source": [
    "# Create Final Model PKL file to be used for Redshift/Tableau"
   ]
  },
  {
   "cell_type": "code",
   "execution_count": 22,
   "metadata": {},
   "outputs": [],
   "source": [
    "# Import Joblib Module from Scikit Learn\n",
    "\n",
    "import pickle"
   ]
  },
  {
   "cell_type": "code",
   "execution_count": 23,
   "metadata": {},
   "outputs": [],
   "source": [
    "# Save RF_Model to file in the current working directory\n",
    "\n",
    "filename = \"Opportunity_Score_RF_Model.pkl\"  \n",
    "pickle.dump(final_rf, open(filename,'wb'))"
   ]
  },
  {
   "cell_type": "code",
   "execution_count": 24,
   "metadata": {},
   "outputs": [
    {
     "data": {
      "text/plain": [
       "RandomForestClassifier(n_estimators=2000, random_state=0)"
      ]
     },
     "execution_count": 24,
     "metadata": {},
     "output_type": "execute_result"
    }
   ],
   "source": [
    "# Load from file\n",
    "\n",
    "pickle_RF_model = pickle.load(open(filename,'rb'))\n",
    "\n",
    "\n",
    "pickle_RF_model"
   ]
  },
  {
   "cell_type": "code",
   "execution_count": 25,
   "metadata": {},
   "outputs": [
    {
     "name": "stdout",
     "output_type": "stream",
     "text": [
      "Model training score: 100.00 %\n"
     ]
    },
    {
     "data": {
      "text/plain": [
       "array([[9.985e-01, 1.500e-03],\n",
       "       [9.990e-01, 1.000e-03],\n",
       "       [9.880e-01, 1.200e-02],\n",
       "       ...,\n",
       "       [9.995e-01, 5.000e-04],\n",
       "       [1.000e+00, 0.000e+00],\n",
       "       [5.500e-02, 9.450e-01]])"
      ]
     },
     "execution_count": 25,
     "metadata": {},
     "output_type": "execute_result"
    }
   ],
   "source": [
    "# Use the Reloaded Joblib Model to \n",
    "# Calculate the accuracy score and predict target values\n",
    "\n",
    "# Calculate the Score \n",
    "score = pickle_RF_model.score(X_full_train, y_full_train)\n",
    "\n",
    "# Print the Score\n",
    "print(\"Model training score: {0:.2f} %\".format(100 * score))  \n",
    "\n",
    "\n",
    "# Predict the Labels using the reloaded Model\n",
    "Ypredict = pickle_RF_model.predict_proba(X_full_train)\n",
    "\n",
    "\n",
    "Ypredict"
   ]
  },
  {
   "cell_type": "code",
   "execution_count": null,
   "metadata": {},
   "outputs": [],
   "source": []
  }
 ],
 "metadata": {
  "kernelspec": {
   "display_name": "Python 3",
   "language": "python",
   "name": "python3"
  },
  "language_info": {
   "codemirror_mode": {
    "name": "ipython",
    "version": 3
   },
   "file_extension": ".py",
   "mimetype": "text/x-python",
   "name": "python",
   "nbconvert_exporter": "python",
   "pygments_lexer": "ipython3",
   "version": "3.8.8"
  }
 },
 "nbformat": 4,
 "nbformat_minor": 4
}
